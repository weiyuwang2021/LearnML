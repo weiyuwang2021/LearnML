{
 "cells": [
  {
   "cell_type": "code",
   "execution_count": 3,
   "metadata": {},
   "outputs": [],
   "source": [
    "import torch\n",
    "import pandas as pd\n",
    "import matplotlib.pyplot as plt\n",
    "from sklearn.model_selection import train_test_split\n",
    "%matplotlib inline "
   ]
  },
  {
   "cell_type": "code",
   "execution_count": 23,
   "metadata": {},
   "outputs": [],
   "source": [
    "df = pd.read_csv('data/iris.csv')\n",
    "features = df.drop('variety', axis=1).values\n",
    "targets = [0 if v=='Setosa' else (1 if v=='Virginica' else 2) for v in df['variety']]\n",
    "x_train,x_test,y_train,y_test = train_test_split(features, targets, test_size=0.2)\n",
    "\n",
    "x_train = torch.Tensor(x_train)\n",
    "x_test = torch.Tensor(x_test)\n",
    "y_train = torch.LongTensor(y_train).reshape(-1)\n",
    "y_test = torch.LongTensor(y_test).reshape(-1)"
   ]
  },
  {
   "cell_type": "code",
   "execution_count": null,
   "metadata": {},
   "outputs": [],
   "source": [
    "fig, axes = plt.subplots(nrows=2, ncols=2, figsize=(10, 7))\n",
    "fig.tight_layout()\n",
    "\n",
    "plots = [(0, 1), (2, 3), (0, 2), (1, 3)]\n",
    "colors = ['b', 'r', 'g']\n",
    "labels = ['Setosa', 'Virginica', 'Versicolor']\n",
    "\n",
    "for i, ax in enumerate(axes.flat):\n",
    "    for k in range(3):\n",
    "        x = df.columns[plots[i][0]]\n",
    "        y = df.columns[plots[i][1]]\n",
    "        ax.scatter(df[df['variety']==labels[k]][x], df[df['variety']==labels[k]][y], color=colors[k], label=labels[k])\n",
    "        ax.set(xlabel=x, ylabel=y)\n",
    "\n",
    "fig.legend(labels=labels, loc=3, bbox_to_anchor=(1.0,0.85))\n",
    "plt.show()"
   ]
  },
  {
   "cell_type": "code",
   "execution_count": 8,
   "metadata": {},
   "outputs": [],
   "source": [
    "import torch.nn as nn\n",
    "import torch.nn.functional as F\n",
    "\n",
    "class Model(nn.Module):\n",
    "    def __init__(self, in_features=4, h1=8, h2=9, out_features=3):\n",
    "        super().__init__()\n",
    "        # Input Layer (4 featrues) --> h1 N --> h2 N --> output (3 classses)\n",
    "        self.fc1 = nn.Linear(in_features, h1)\n",
    "        self.fc2 = nn.Linear(h1, h2)\n",
    "        self.out = nn.Linear(h2, out_features)\n",
    "\n",
    "    def forward(self, x):\n",
    "        x = F.relu(self.fc1(x))\n",
    "        x = F.relu(self.fc2(x))\n",
    "        x = self.out(x)\n",
    "\n",
    "        return x"
   ]
  },
  {
   "cell_type": "code",
   "execution_count": 24,
   "metadata": {},
   "outputs": [
    {
     "name": "stdout",
     "output_type": "stream",
     "text": [
      "Epoch 0 and loss is: 1.1416981220245361\n",
      "Epoch 10 and loss is: 0.8959753513336182\n",
      "Epoch 20 and loss is: 0.6973893046379089\n",
      "Epoch 30 and loss is: 0.5407655835151672\n",
      "Epoch 40 and loss is: 0.43244442343711853\n",
      "Epoch 50 and loss is: 0.35116344690322876\n",
      "Epoch 60 and loss is: 0.2581036686897278\n",
      "Epoch 70 and loss is: 0.1701822429895401\n",
      "Epoch 80 and loss is: 0.11355739086866379\n",
      "Epoch 90 and loss is: 0.08833510428667068\n"
     ]
    }
   ],
   "source": [
    "torch.manual_seed(32)\n",
    "model = Model()\n",
    "criterion = nn.CrossEntropyLoss()\n",
    "optimizer = torch.optim.Adam(model.parameters(), lr=0.01)\n",
    "\n",
    "epochs = 100\n",
    "losses = []\n",
    "\n",
    "for i in range(epochs):\n",
    "    y_pred = model.forward(x_train)\n",
    "    loss = criterion(y_pred, y_train)\n",
    "    losses.append(loss)\n",
    "\n",
    "    if i%10==0:\n",
    "        print(f'Epoch {i} and loss is: {loss}')\n",
    "    \n",
    "    optimizer.zero_grad()\n",
    "    loss.backward()\n",
    "    optimizer.step()\n"
   ]
  }
 ],
 "metadata": {
  "kernelspec": {
   "display_name": "base",
   "language": "python",
   "name": "python3"
  },
  "language_info": {
   "codemirror_mode": {
    "name": "ipython",
    "version": 3
   },
   "file_extension": ".py",
   "mimetype": "text/x-python",
   "name": "python",
   "nbconvert_exporter": "python",
   "pygments_lexer": "ipython3",
   "version": "3.9.13"
  },
  "orig_nbformat": 4,
  "vscode": {
   "interpreter": {
    "hash": "e568278919b2c28c203497d88ddd2a5045ed879ff18182629f3f0bef6b332253"
   }
  }
 },
 "nbformat": 4,
 "nbformat_minor": 2
}
