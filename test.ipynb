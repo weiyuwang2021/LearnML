{
 "cells": [
  {
   "cell_type": "code",
   "execution_count": 1,
   "metadata": {},
   "outputs": [
    {
     "name": "stderr",
     "output_type": "stream",
     "text": [
      "C:\\Users\\weiyu.wang\\AppData\\Local\\Temp\\ipykernel_28752\\2485768162.py:5: UserWarning: torch.sparse.SparseTensor(indices, values, *, device=) is deprecated.  Please use torch.sparse_coo_tensor(indices, values, dtype=, device=). (Triggered internally at ..\\torch\\csrc\\utils\\tensor_new.cpp:595.)\n",
      "  w = torch.sparse.FloatTensor(i, v)  # sparse tensor\n"
     ]
    }
   ],
   "source": [
    "# PyTorch Tensors\n",
    "import torch \n",
    "i = torch.LongTensor([[2, 4]])\n",
    "v = torch.FloatTensor([[1, 3], [5, 7]])\n",
    "w = torch.sparse.FloatTensor(i, v)  # sparse tensor"
   ]
  }
 ],
 "metadata": {
  "kernelspec": {
   "display_name": "Python 3",
   "language": "python",
   "name": "python3"
  },
  "language_info": {
   "codemirror_mode": {
    "name": "ipython",
    "version": 3
   },
   "file_extension": ".py",
   "mimetype": "text/x-python",
   "name": "python",
   "nbconvert_exporter": "python",
   "pygments_lexer": "ipython3",
   "version": "3.11.6"
  }
 },
 "nbformat": 4,
 "nbformat_minor": 2
}
